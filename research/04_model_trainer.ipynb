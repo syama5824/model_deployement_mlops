{
 "cells": [
  {
   "cell_type": "code",
   "execution_count": null,
   "id": "d1bffc59",
   "metadata": {},
   "outputs": [],
   "source": [
    "import os"
   ]
  },
  {
   "cell_type": "code",
   "execution_count": null,
   "id": "df3fd66f",
   "metadata": {},
   "outputs": [],
   "source": [
    "%pwd"
   ]
  },
  {
   "cell_type": "code",
   "execution_count": null,
   "id": "8b405fbb",
   "metadata": {},
   "outputs": [],
   "source": [
    "os.chdir(\"../\")"
   ]
  },
  {
   "cell_type": "code",
   "execution_count": null,
   "id": "064fe670",
   "metadata": {},
   "outputs": [],
   "source": [
    "%pwd"
   ]
  },
  {
   "cell_type": "code",
   "execution_count": null,
   "id": "f683279b",
   "metadata": {},
   "outputs": [],
   "source": [
    "from dataclasses import dataclass\n",
    "from pathlib import Path\n",
    "\n",
    "@dataclass(frozen=True)\n",
    "class ModelTrainerConfig:\n",
    "    root_dir: Path\n",
    "    train_model_dir: Path\n",
    "    test_model_dir: Path\n",
    "    model_file_name: str\n",
    "    alpha : float\n",
    "    l1_ratio : float\n",
    "    target_column: str"
   ]
  },
  {
   "cell_type": "code",
   "execution_count": null,
   "id": "1e9be66d",
   "metadata": {},
   "outputs": [],
   "source": [
    "from mlproj.constants import *\n",
    "from mlproj.utils.common import read_yaml, create_directories"
   ]
  },
  {
   "cell_type": "code",
   "execution_count": null,
   "id": "431aca8d",
   "metadata": {},
   "outputs": [],
   "source": [
    "class COnfigurationManager:\n",
    "    def __init__(self,\n",
    "                 config_filepath: Path = CONFIG_FILE_PATH,\n",
    "                 params_filepath: Path = PARAMS_FILE_PATH,\n",
    "                 schema_filepath: Path = SCHEMA_FILE_PATH):\n",
    "        self.config = read_yaml(config_filepath)\n",
    "        self.params = read_yaml(params_filepath)\n",
    "        self.schema = read_yaml(schema_filepath)\n",
    "\n",
    "        create_directories(Path(self.config.artifacts_root))\n",
    "    \n",
    "    def get_model_trainer_config(self) -> ModelTrainerConfig:\n",
    "        config = self.config.model_trainer\n",
    "\n",
    "        create_directories\n",
    "        ([\n",
    "            Path (config.root_dir),\n",
    "            Path (config.train_model_dir),\n",
    "            Path (config.test_model_dir)\n",
    "        ])\n",
    "\n",
    "        model_trainer_config = ModelTrainerConfig(\n",
    "            root_dir= Path (config.root_dir),\n",
    "            train_model_dir= Path (config.train_model_dir),\n",
    "            test_model_dir= Path (config.test_model_dir),\n",
    "            model_file_name= config.model_file_name,\n",
    "            alpha = self.params.alpha,\n",
    "            l1_ratio = self.params.l1_ratio,\n",
    "            target_column= self.schema.target_column\n",
    "        )\n",
    "\n",
    "        return model_trainer_config"
   ]
  },
  {
   "cell_type": "code",
   "execution_count": null,
   "id": "70655b16",
   "metadata": {},
   "outputs": [],
   "source": [
    "import os\n",
    "import pandas as pd\n",
    "from mlproj import logger\n",
    "from sklearn.linear_model import ElasticNet\n",
    "import joblib"
   ]
  },
  {
   "cell_type": "code",
   "execution_count": null,
   "id": "f0029843",
   "metadata": {},
   "outputs": [],
   "source": [
    "class ModelTrainer:\n",
    "    def __init__(self, model_trainer_config: ModelTrainerConfig):\n",
    "        self.model_trainer_config = model_trainer_config\n",
    "\n",
    "    def train_model(self, X_train: pd.DataFrame, y_train: pd.Series) -> ElasticNet:\n",
    "        train_data = pd.read_csv(self.config.data_ingestion.train_file_path)\n",
    "        test_data = pd.read_csv(self.config.data_ingestion.test_file_path)\n",
    "\n",
    "        train_x = train_data.drop(columns=[self.schema.target_column], axis=1)\n",
    "        train_y = train_data[self.schema.target_column]\n",
    "        test_x = test_data.drop(columns=[self.schema.target_column], axis=1)\n",
    "        test_y = test_data[self.schema.target_column]\n",
    "\n",
    "        lr = ElasticNet(\n",
    "            alpha=self.model_trainer_config.alpha,\n",
    "            l1_ratio=self.model_trainer_config.l1_ratio\n",
    "            random_state=42\n",
    "        )\n",
    "        lr.fit(train_x, train_y)\n",
    "\n",
    "        joblib.dump(lr, os.path.join(self.model_trainer_config.train_model_dir, self.model_trainer_config.model_file_name))\n",
    "\n",
    "        "
   ]
  },
  {
   "cell_type": "code",
   "execution_count": null,
   "id": "c5edef2a",
   "metadata": {},
   "outputs": [],
   "source": [
    "try:\n",
    "    config = COnfigurationManager()\n",
    "    model_trainer_config = config.get_model_trainer_config()\n",
    "    model_trainer_config = ModelTrainer(model_trainer_config)\n",
    "    model_trainer_config.train_model()\n",
    "\n",
    "except Exception as e:  \n",
    "    logger.exception(e)"
   ]
  }
 ],
 "metadata": {
  "language_info": {
   "name": "python"
  }
 },
 "nbformat": 4,
 "nbformat_minor": 5
}
