{
 "cells": [
  {
   "cell_type": "code",
   "execution_count": null,
   "id": "edf4aa29",
   "metadata": {},
   "outputs": [],
   "source": [
    "import os"
   ]
  },
  {
   "cell_type": "code",
   "execution_count": null,
   "id": "e608ed3d",
   "metadata": {},
   "outputs": [],
   "source": [
    "%pwd"
   ]
  },
  {
   "cell_type": "code",
   "execution_count": null,
   "id": "dd584e49",
   "metadata": {},
   "outputs": [],
   "source": [
    "os.chdir(\"../\")"
   ]
  },
  {
   "cell_type": "code",
   "execution_count": null,
   "id": "d5baadbf",
   "metadata": {},
   "outputs": [],
   "source": [
    "%pwd"
   ]
  },
  {
   "cell_type": "code",
   "execution_count": null,
   "id": "8d7ef7e7",
   "metadata": {},
   "outputs": [],
   "source": [
    "import pandas as pd"
   ]
  },
  {
   "cell_type": "code",
   "execution_count": null,
   "id": "b5e681ad",
   "metadata": {},
   "outputs": [],
   "source": [
    "data = pd.read_csv(\"artifacts/data_ingestion/winequality-read.csv\")\n",
    "data.head()"
   ]
  },
  {
   "cell_type": "code",
   "execution_count": null,
   "id": "bfa9b61a",
   "metadata": {},
   "outputs": [],
   "source": [
    "data.isnull().sum()"
   ]
  },
  {
   "cell_type": "code",
   "execution_count": null,
   "id": "4072e381",
   "metadata": {},
   "outputs": [],
   "source": [
    "data.shape()"
   ]
  },
  {
   "cell_type": "code",
   "execution_count": null,
   "id": "90821280",
   "metadata": {},
   "outputs": [],
   "source": [
    "from dataclasses import dataclass\n",
    "from  pathlib import Path\n",
    "\n",
    "@dataclass (frozen= True)\n",
    "class DataValidationConfig:\n",
    "    root_dir: Path \n",
    "    STATUS_FILE : str\n",
    "    unzip_data_dir: Path\n",
    "    all_schema: dict"
   ]
  },
  {
   "cell_type": "code",
   "execution_count": null,
   "id": "b68b7183",
   "metadata": {},
   "outputs": [],
   "source": [
    "from mlproj.constants import *\n",
    "from mlproj.utils.common import read_yaml, create_directories"
   ]
  },
  {
   "cell_type": "code",
   "execution_count": null,
   "id": "be35c21f",
   "metadata": {},
   "outputs": [],
   "source": [
    "class COnfigurationManager:\n",
    "    def __init__(self, config_filepath= CONFIG_FILE_PATH, params_filepath = PARAMS_FILE_PATH, schema_file_path= SCHEMA_FILE_PATH):\n",
    "               \n",
    "        self.config = read_yaml(config_filepath)\n",
    "        self.params = read_yaml(params_filepath)\n",
    "        self.schema = read_yaml(schema_file_path)\n",
    "\n",
    "        create_directories([self.config.artifacts_root])\n",
    "\n",
    "\n",
    "    def get_data_validation_config(self) -> DataValidationConfig:\n",
    "        config = self.config.data_validation\n",
    "        schema = self.schema.COLUMNS\n",
    "\n",
    "        create_directories\n",
    "        ([\n",
    "            Path (config.root_dir)\n",
    "        ])\n",
    "\n",
    "        data_validation_config = DataValidationConfig(\n",
    "            root_dir= Path (config.root_dir),\n",
    "            STATUS_FILE = config.STATUS_FILE,\n",
    "            unzip_data_dir= Path (config.unzip_data_dir),\n",
    "            all_schema= self.schema\n",
    "        )\n",
    "\n",
    "        return data_validation_config"
   ]
  },
  {
   "cell_type": "code",
   "execution_count": null,
   "id": "c260e546",
   "metadata": {},
   "outputs": [],
   "source": [
    "import os\n",
    "from mlproj import logger"
   ]
  },
  {
   "cell_type": "code",
   "execution_count": null,
   "id": "a4ad0433",
   "metadata": {},
   "outputs": [],
   "source": [
    "class DataValidation:\n",
    "    def __init__(self, config: DataValidationConfig):\n",
    "        self.config = config\n",
    "\n",
    "    def validate_all_columns(self) -> bool:\n",
    "        try:\n",
    "            validation_status = None\n",
    "            data = pd.read_csv (self.config.unzip_data_dir)\n",
    "            all_columns = self.config.all_schema['COLUMNS']\n",
    "\n",
    "            all_schema = self.config.all_schema.keys()\n",
    "            for column in all_columns:\n",
    "                if column not in all_schema:\n",
    "                    validation_status = False\n",
    "                    with open (self.config.STATUS_FILE, \"w\") as f:\n",
    "                        f.write (f\"{column} is not present in the data\")\n",
    "                else:\n",
    "                    validation_status = True\n",
    "                    with open (self.config.STATUS_FILE, \"w\") as f:\n",
    "                        f.write (f\"All columns are present in the data\")\n",
    "\n",
    "            return validation_status\n",
    "        except Exception as e:\n",
    "            logger.exception(e)"
   ]
  },
  {
   "cell_type": "code",
   "execution_count": null,
   "id": "2e2ddc3f",
   "metadata": {},
   "outputs": [],
   "source": [
    "try:\n",
    "    config = COnfigurationManager()\n",
    "    data_validation_config = config.get_data_validation_config()\n",
    "\n",
    "    data_validation = DataValidation(config= data_validation_config)\n",
    "    data_validation.validate_all_columns()\n",
    "\n",
    "except Exception as e:\n",
    "    logger.exception(e)"
   ]
  },
  {
   "cell_type": "code",
   "execution_count": null,
   "id": "62448625",
   "metadata": {},
   "outputs": [],
   "source": []
  }
 ],
 "metadata": {
  "kernelspec": {
   "display_name": "mlops",
   "language": "python",
   "name": "python3"
  },
  "language_info": {
   "codemirror_mode": {
    "name": "ipython",
    "version": 3
   },
   "file_extension": ".py",
   "mimetype": "text/x-python",
   "name": "python",
   "nbconvert_exporter": "python",
   "pygments_lexer": "ipython3",
   "version": "3.13.2"
  }
 },
 "nbformat": 4,
 "nbformat_minor": 5
}
