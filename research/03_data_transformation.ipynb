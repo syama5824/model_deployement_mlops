{
 "cells": [
  {
   "cell_type": "code",
   "execution_count": null,
   "id": "fbdaec3c",
   "metadata": {},
   "outputs": [],
   "source": [
    "import os"
   ]
  },
  {
   "cell_type": "code",
   "execution_count": null,
   "id": "30c1fc04",
   "metadata": {},
   "outputs": [],
   "source": [
    "%pwd"
   ]
  },
  {
   "cell_type": "code",
   "execution_count": null,
   "id": "206518df",
   "metadata": {},
   "outputs": [],
   "source": [
    "os.chdir(\"../\")"
   ]
  },
  {
   "cell_type": "code",
   "execution_count": null,
   "id": "e967acda",
   "metadata": {},
   "outputs": [],
   "source": [
    "%pwd"
   ]
  },
  {
   "cell_type": "code",
   "execution_count": null,
   "id": "1c6d65ed",
   "metadata": {},
   "outputs": [],
   "source": [
    "from dataclasses import dataclass\n",
    "from  pathlib import Path\n",
    "\n",
    "@dataclass (frozen= True)\n",
    "class DataTransformationConfig:\n",
    "    root_dir: Path \n",
    "    data_path : Path"
   ]
  },
  {
   "cell_type": "code",
   "execution_count": null,
   "id": "8675bfdd",
   "metadata": {},
   "outputs": [],
   "source": [
    "from mlproj.constants import *\n",
    "from mlproj.utils.common import read_yaml, create_directories"
   ]
  },
  {
   "cell_type": "code",
   "execution_count": null,
   "id": "9590c99b",
   "metadata": {},
   "outputs": [],
   "source": [
    "class COnfigurationManager:\n",
    "    def __init__(self, config_filepath= CONFIG_FILE_PATH, params_filepath = PARAMS_FILE_PATH, schema_file_path= SCHEMA_FILE_PATH):\n",
    "               \n",
    "        self.config = read_yaml(config_filepath)\n",
    "        self.params = read_yaml(params_filepath)\n",
    "        self.schema = read_yaml(schema_file_path)\n",
    "\n",
    "        create_directories([self.config.artifacts_root])\n",
    "\n",
    "    def get_data_transformation_config(self) -> DataTransformationConfig:\n",
    "        data_transformation_config = self.config.data_transformation\n",
    "\n",
    "        create_directories([data_transformation_config.root_dir])\n",
    "        data_transformation_config = DataTransformationConfig(\n",
    "            root_dir= Path(data_transformation_config.root_dir),\n",
    "            data_path= Path(data_transformation_config.data_path)\n",
    "        )\n",
    "        return data_transformation_config"
   ]
  },
  {
   "cell_type": "code",
   "execution_count": null,
   "id": "5b96a342",
   "metadata": {},
   "outputs": [],
   "source": [
    "import os\n",
    "from mlproj import logger\n",
    "import pandas as pd\n",
    "from sklearn.model_selection import train_test_split"
   ]
  },
  {
   "cell_type": "code",
   "execution_count": null,
   "id": "6f60bbb5",
   "metadata": {},
   "outputs": [],
   "source": [
    "class DataTransformation:\n",
    "    def __init__(self, config: DataTransformationConfig):\n",
    "        self.config = config\n",
    "\n",
    "    def train_test_split(self):\n",
    "        try:\n",
    "            df = pd.read_csv(self.config.data_path)\n",
    "            train_df, test_df = train_test_split(df, test_size=0.2, random_state=42)\n",
    "\n",
    "            train_file_path = self.config.root_dir / \"train.csv\"\n",
    "            test_file_path = self.config.root_dir / \"test.csv\"\n",
    "\n",
    "            train_df.to_csv(train_file_path, index=False)\n",
    "            test_df.to_csv(test_file_path, index=False)\n",
    "\n",
    "            logger.info(f\"Train and test data saved at {train_file_path} and {test_file_path} respectively.\")\n",
    "\n",
    "        except Exception as e:\n",
    "            logger.exception(e)"
   ]
  },
  {
   "cell_type": "code",
   "execution_count": null,
   "id": "d69aafc8",
   "metadata": {},
   "outputs": [],
   "source": [
    "try:\n",
    "    config = COnfigurationManager()\n",
    "    data_transformation_config = config.get_data_transformation_config()\n",
    "    data_transformation_config = DataTransformation(config= data_transformation_config)\n",
    "    data_transformation_config.train_test_split()\n",
    "except Exception as e:\n",
    "    logger.exception(e)"
   ]
  }
 ],
 "metadata": {
  "kernelspec": {
   "display_name": "mlops",
   "language": "python",
   "name": "python3"
  },
  "language_info": {
   "name": "python",
   "version": "3.13.2"
  }
 },
 "nbformat": 4,
 "nbformat_minor": 5
}
